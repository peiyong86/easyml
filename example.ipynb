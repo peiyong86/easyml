{
 "cells": [
  {
   "cell_type": "code",
   "execution_count": 5,
   "metadata": {},
   "outputs": [],
   "source": [
    "from easyml import FM,FMParam,DataSet, min_max_normalize"
   ]
  },
  {
   "cell_type": "code",
   "execution_count": 6,
   "metadata": {},
   "outputs": [
    {
     "name": "stdout",
     "output_type": "stream",
     "text": [
      "start fit\n",
      "epoch  0  lr  0.01  loss  0.5278801304094526  reg loss  2.6643111809018953   {'auc': 0.5476856029243611, 'accuracy': 0.7896875345036988}\n",
      "epoch  1  lr  0.01  loss  0.5110757062607382  reg loss  2.414274395126439   {'auc': 0.574083853831578, 'accuracy': 0.7896875345036988}\n",
      "epoch  2  lr  0.01  loss  0.5089266797841578  reg loss  2.161544024783518   {'auc': 0.5852665918878988, 'accuracy': 0.7896875345036988}\n",
      "epoch  3  lr  0.01  loss  0.5075805756209469  reg loss  1.952985288120829   {'auc': 0.5905438520833062, 'accuracy': 0.7896875345036988}\n",
      "epoch  4  lr  0.01  loss  0.5066781226427827  reg loss  1.7783799697133238   {'auc': 0.593659213561765, 'accuracy': 0.7896875345036988}\n",
      "epoch  5  lr  0.01  loss  0.5060322307598956  reg loss  1.6310106917763239   {'auc': 0.5958801345106456, 'accuracy': 0.7896875345036988}\n",
      "epoch  6  lr  0.01  loss  0.5055446221024815  reg loss  1.5063221300295708   {'auc': 0.5976042048151794, 'accuracy': 0.7896875345036988}\n",
      "epoch  7  lr  0.01  loss  0.505160669429412  reg loss  1.4009181470484473   {'auc': 0.5989290982720097, 'accuracy': 0.7896875345036988}\n",
      "epoch  8  lr  0.01  loss  0.5048483035935453  reg loss  1.3120890754292758   {'auc': 0.6001151464589902, 'accuracy': 0.7896875345036988}\n",
      "epoch  9  lr  0.01  loss  0.5045876672209991  reg loss  1.2375810034044397   {'auc': 0.601132741001817, 'accuracy': 0.7896875345036988}\n"
     ]
    }
   ],
   "source": [
    "param = FMParam(lr=0.01,\n",
    "                embed_size=10,\n",
    "                decay=0.8, \n",
    "                decay_step=10, \n",
    "                epochs=10,\n",
    "                batch_size=128,\n",
    "                regW=0.0,\n",
    "                regV=0.01,\n",
    "                loss='log')\n",
    "\n",
    "model = FM(param)\n",
    "dataset = DataSet()\n",
    "dataset.loaddata('../data/movielen_train.svm', 'sparse')\n",
    "model.fit(dataset)"
   ]
  },
  {
   "cell_type": "code",
   "execution_count": 7,
   "metadata": {},
   "outputs": [
    {
     "name": "stdout",
     "output_type": "stream",
     "text": [
      "{'auc': 0.5891947735234114, 'accuracy': 0.7716861081654295}\n"
     ]
    }
   ],
   "source": [
    "dataset = DataSet()\n",
    "dataset.loaddata('../data/movielen_test.svm', 'sparse')\n",
    "result = model.evaluate(dataset)\n",
    "print(result)"
   ]
  }
 ],
 "metadata": {
  "kernelspec": {
   "display_name": "py36",
   "language": "python",
   "name": "py36"
  },
  "language_info": {
   "codemirror_mode": {
    "name": "ipython",
    "version": 3
   },
   "file_extension": ".py",
   "mimetype": "text/x-python",
   "name": "python",
   "nbconvert_exporter": "python",
   "pygments_lexer": "ipython3",
   "version": "3.6.8"
  }
 },
 "nbformat": 4,
 "nbformat_minor": 2
}
