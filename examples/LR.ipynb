{
 "cells": [
  {
   "cell_type": "code",
   "execution_count": 1,
   "metadata": {},
   "outputs": [],
   "source": [
    "import os,sys\n",
    "\n",
    "sys.path.insert(0, '..')\n",
    "\n",
    "from easyml import LR,LRParam,DataSet, min_max_normalize"
   ]
  },
  {
   "cell_type": "code",
   "execution_count": 2,
   "metadata": {},
   "outputs": [
    {
     "name": "stdout",
     "output_type": "stream",
     "text": [
      "start fit\n",
      "epoch  0  lr  0.01  loss  0.5395491228367008  reg loss  0.03581049273065363   {'auc': 0.9795872033023736, 'accuracy': 0.9186813186813186}\n",
      "epoch  1  lr  0.01  loss  0.3480676133544495  reg loss  0.09475660638599852   {'auc': 0.986625386996904, 'accuracy': 0.9362637362637363}\n",
      "epoch  2  lr  0.01  loss  0.28213981426090634  reg loss  0.1545675756881617   {'auc': 0.9897626418988649, 'accuracy': 0.9406593406593406}\n",
      "epoch  3  lr  0.01  loss  0.24257782846350415  reg loss  0.2146161150797898   {'auc': 0.9914963880288957, 'accuracy': 0.9494505494505494}\n",
      "epoch  4  lr  0.01  loss  0.2146818277148883  reg loss  0.27567919009157177   {'auc': 0.9928586171310629, 'accuracy': 0.9538461538461539}\n",
      "epoch  5  lr  0.01  loss  0.19331347535403645  reg loss  0.33851330237013544   {'auc': 0.9937048503611972, 'accuracy': 0.9582417582417583}\n",
      "epoch  6  lr  0.01  loss  0.17611707730189866  reg loss  0.40376598406157255   {'auc': 0.9944478844169246, 'accuracy': 0.9626373626373627}\n",
      "epoch  7  lr  0.01  loss  0.16183413246140918  reg loss  0.47198062872344554   {'auc': 0.9951083591331269, 'accuracy': 0.967032967032967}\n",
      "epoch  8  lr  0.01  loss  0.1497158877043626  reg loss  0.5436099496658119   {'auc': 0.9955624355005159, 'accuracy': 0.9736263736263736}\n",
      "epoch  9  lr  0.01  loss  0.13927667737527905  reg loss  0.619033097780246   {'auc': 0.9959133126934985, 'accuracy': 0.9736263736263736}\n"
     ]
    }
   ],
   "source": [
    "param = LRParam(learning_rate=0.01,\n",
    "                decay=0.8, \n",
    "                decay_step=10, \n",
    "                epochs=10,\n",
    "                batch_size=128,\n",
    "                regW=0.0,\n",
    "                loss='log',\n",
    "                opt='RMSProp')\n",
    "\n",
    "model = LR(param)\n",
    "dataset = DataSet()\n",
    "dataset.loaddata('../test/data/breast_data.train.txt', 'dense')\n",
    "model.fit(dataset)"
   ]
  },
  {
   "cell_type": "code",
   "execution_count": 3,
   "metadata": {},
   "outputs": [
    {
     "name": "stdout",
     "output_type": "stream",
     "text": [
      "{'auc': 0.9831349206349207, 'accuracy': 0.956140350877193}\n"
     ]
    }
   ],
   "source": [
    "dataset = DataSet()\n",
    "dataset.loaddata('../test/data/breast_data.test.txt', 'dense')\n",
    "result = model.evaluate(dataset)\n",
    "print(result)"
   ]
  },
  {
   "cell_type": "code",
   "execution_count": null,
   "metadata": {},
   "outputs": [],
   "source": []
  }
 ],
 "metadata": {
  "kernelspec": {
   "display_name": "Python 3",
   "language": "python",
   "name": "python3"
  },
  "language_info": {
   "codemirror_mode": {
    "name": "ipython",
    "version": 3
   },
   "file_extension": ".py",
   "mimetype": "text/x-python",
   "name": "python",
   "nbconvert_exporter": "python",
   "pygments_lexer": "ipython3",
   "version": "3.6.5"
  }
 },
 "nbformat": 4,
 "nbformat_minor": 2
}
