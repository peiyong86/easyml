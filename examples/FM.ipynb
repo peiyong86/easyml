{
 "cells": [
  {
   "cell_type": "code",
   "execution_count": 4,
   "metadata": {},
   "outputs": [],
   "source": [
    "import os,sys\n",
    "\n",
    "sys.path.insert(0, '..')\n",
    "\n",
    "from easyml import FM,FMParam,DataSet, min_max_normalize"
   ]
  },
  {
   "cell_type": "code",
   "execution_count": 5,
   "metadata": {},
   "outputs": [
    {
     "name": "stdout",
     "output_type": "stream",
     "text": [
      "start fit\n",
      "epoch  0  lr  0.01  loss  0.7033230726734064  reg loss  1.5679614649730345   {'auc': 0.6813622291021671, 'accuracy': 0.5538461538461539}\n",
      "epoch  1  lr  0.01  loss  0.6427542738331166  reg loss  1.5646940781165366   {'auc': 0.7738080495356037, 'accuracy': 0.6241758241758242}\n",
      "epoch  2  lr  0.01  loss  0.5938894094490174  reg loss  1.5630329575929007   {'auc': 0.8365737874097007, 'accuracy': 0.7076923076923077}\n",
      "epoch  3  lr  0.01  loss  0.5530150090382517  reg loss  1.5626278819656187   {'auc': 0.8811351909184726, 'accuracy': 0.7670329670329671}\n",
      "epoch  4  lr  0.01  loss  0.5181017403542926  reg loss  1.5632354132095845   {'auc': 0.9148813209494324, 'accuracy': 0.832967032967033}\n",
      "epoch  5  lr  0.01  loss  0.4878774616413271  reg loss  1.5646690202268676   {'auc': 0.9381424148606811, 'accuracy': 0.8637362637362638}\n",
      "epoch  6  lr  0.01  loss  0.46145651370077556  reg loss  1.5667794431721298   {'auc': 0.9532714138286893, 'accuracy': 0.8923076923076924}\n",
      "epoch  7  lr  0.01  loss  0.4381797147664613  reg loss  1.5694451848225253   {'auc': 0.9630340557275542, 'accuracy': 0.9142857142857143}\n",
      "epoch  8  lr  0.01  loss  0.4175360854104486  reg loss  1.5725666478605032   {'auc': 0.9692466460268317, 'accuracy': 0.9252747252747253}\n",
      "epoch  9  lr  0.01  loss  0.3991192388272129  reg loss  1.5760619012364743   {'auc': 0.9732714138286893, 'accuracy': 0.9318681318681319}\n"
     ]
    }
   ],
   "source": [
    "param = FMParam(learning_rate=0.01,\n",
    "                embed_size=10,\n",
    "                decay=0.8, \n",
    "                decay_step=10, \n",
    "                epochs=10,\n",
    "                batch_size=128,\n",
    "                regW=0.0,\n",
    "                regV=0.01,\n",
    "                loss='log')\n",
    "\n",
    "model = FM(param)\n",
    "dataset = DataSet()\n",
    "dataset.loaddata('../test/data/breast_data.train.txt', 'dense')\n",
    "model.fit(dataset)"
   ]
  },
  {
   "cell_type": "code",
   "execution_count": 6,
   "metadata": {},
   "outputs": [
    {
     "name": "stdout",
     "output_type": "stream",
     "text": [
      "{'auc': 0.9788359788359788, 'accuracy': 0.956140350877193}\n"
     ]
    }
   ],
   "source": [
    "dataset = DataSet()\n",
    "dataset.loaddata('../test/data/breast_data.test.txt', 'dense')\n",
    "result = model.evaluate(dataset)\n",
    "print(result)"
   ]
  },
  {
   "cell_type": "code",
   "execution_count": null,
   "metadata": {},
   "outputs": [],
   "source": []
  }
 ],
 "metadata": {
  "kernelspec": {
   "display_name": "Python 3",
   "language": "python",
   "name": "python3"
  },
  "language_info": {
   "codemirror_mode": {
    "name": "ipython",
    "version": 3
   },
   "file_extension": ".py",
   "mimetype": "text/x-python",
   "name": "python",
   "nbconvert_exporter": "python",
   "pygments_lexer": "ipython3",
   "version": "3.6.5"
  }
 },
 "nbformat": 4,
 "nbformat_minor": 2
}
